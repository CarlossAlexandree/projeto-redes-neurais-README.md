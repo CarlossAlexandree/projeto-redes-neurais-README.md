{
  "nbformat": 4,
  "nbformat_minor": 0,
  "metadata": {
    "colab": {
      "provenance": []
    },
    "kernelspec": {
      "name": "python3",
      "display_name": "Python 3"
    },
    "language_info": {
      "name": "python"
    }
  },
  "cells": [
    {
      "cell_type": "code",
      "source": [
        "# Importar bibliotecas\n",
        "import numpy as np\n",
        "import matplotlib.pyplot as plt\n",
        "\n",
        "# Função ReLU e sua derivada\n",
        "def relu(x):\n",
        "    return np.maximum(0, x)\n",
        "\n",
        "def relu_derivative(x):\n",
        "    return (x > 0).astype(float)\n",
        "\n",
        "# Função Sigmoid e sua derivada\n",
        "def sigmoid(x):\n",
        "    return 1 / (1 + np.exp(-x))\n",
        "\n",
        "def sigmoid_derivative(x):\n",
        "    s = sigmoid(x)\n",
        "    return s * (1 - s)\n",
        "\n",
        "# Inicializar entradas XOR\n",
        "X = np.array([[0, 0], [0, 1], [1, 0], [1, 1]]).T  # Matriz 2x4\n",
        "d = np.array([0, 1, 1, 0])                       # Saída esperada\n",
        "\n",
        "# Parâmetros da rede\n",
        "inputSize = 2\n",
        "hiddenSize = 2\n",
        "outputSize = 1\n",
        "lr = 0.1\n",
        "epochs = 180000\n",
        "\n",
        "# Inicializar pesos e vieses\n",
        "w1 = np.random.rand(hiddenSize, inputSize) * 2 - 1\n",
        "b1 = np.random.rand(hiddenSize, 1) * 2 - 1\n",
        "w2 = np.random.rand(outputSize, hiddenSize) * 2 - 1\n",
        "b2 = np.random.rand(outputSize, 1) * 2 - 1\n",
        "\n",
        "error_list = []\n",
        "\n",
        "# ---------- Treinamento usando ReLU ----------\n",
        "for epoch in range(epochs):\n",
        "    # Forward Pass\n",
        "    z1 = np.dot(w1, X) + b1\n",
        "    a1 = relu(z1)  # Ativação ReLU\n",
        "\n",
        "    z2 = np.dot(w2, a1) + b2\n",
        "    a2 = sigmoid(z2)  # Saída final com sigmoid\n",
        "\n",
        "    # Backpropagation\n",
        "    error = d - a2\n",
        "    da2 = error * sigmoid_derivative(z2)\n",
        "\n",
        "    da1 = np.dot(w2.T, da2)\n",
        "    dz1 = da1 * relu_derivative(z1)  # Derivada da ReLU\n",
        "\n",
        "    # Atualização dos pesos\n",
        "    w2 += lr * np.dot(da2, a1.T)\n",
        "    b2 += lr * np.sum(da2, axis=1, keepdims=True)\n",
        "    w1 += lr * np.dot(dz1, X.T)\n",
        "    b1 += lr * np.sum(dz1, axis=1, keepdims=True)\n",
        "\n",
        "    # Registro de erro\n",
        "    if (epoch+1) % 10000 == 0:\n",
        "        print(f\"Época {epoch+1}, Erro médio: {np.average(abs(error)):.5f}\")\n",
        "        error_list.append(np.average(abs(error)))\n",
        "\n",
        "# ---------- Teste após treinamento ----------\n",
        "z1 = np.dot(w1, X) + b1\n",
        "a1 = relu(z1)\n",
        "z2 = np.dot(w2, a1) + b2\n",
        "a2 = sigmoid(z2)\n",
        "\n",
        "print(\"\\n🧪 Saída final após treinamento:\", np.round(a2.T, 3))\n",
        "print(\"🎯 Saída esperada:\", d)\n",
        "print(f\"📉 Erro médio final: {np.average(abs(error)):.5f}\")\n",
        "\n",
        "# ---------- Plotar curva de erro ----------\n",
        "plt.plot(error_list)\n",
        "plt.title('Erro Médio - Ativação ReLU + Saída Sigmoid')\n",
        "plt.xlabel('Épocas (x10.000)')\n",
        "plt.ylabel('Erro')\n",
        "plt.grid(True)\n",
        "plt.show()\n"
      ],
      "metadata": {
        "id": "jAC7DMg4gTXY",
        "colab": {
          "base_uri": "https://localhost:8080/",
          "height": 908
        },
        "outputId": "f6e15934-6ea6-455f-ba0b-648f6d44a3cc"
      },
      "execution_count": 18,
      "outputs": [
        {
          "output_type": "stream",
          "name": "stdout",
          "text": [
            "Época 10000, Erro médio: 0.50000\n",
            "Época 20000, Erro médio: 0.50000\n",
            "Época 30000, Erro médio: 0.50000\n",
            "Época 40000, Erro médio: 0.50000\n",
            "Época 50000, Erro médio: 0.50000\n",
            "Época 60000, Erro médio: 0.50000\n",
            "Época 70000, Erro médio: 0.50000\n",
            "Época 80000, Erro médio: 0.50000\n",
            "Época 90000, Erro médio: 0.50000\n",
            "Época 100000, Erro médio: 0.50000\n",
            "Época 110000, Erro médio: 0.50000\n",
            "Época 120000, Erro médio: 0.50000\n",
            "Época 130000, Erro médio: 0.50000\n",
            "Época 140000, Erro médio: 0.50000\n",
            "Época 150000, Erro médio: 0.50000\n",
            "Época 160000, Erro médio: 0.50000\n",
            "Época 170000, Erro médio: 0.50000\n",
            "Época 180000, Erro médio: 0.50000\n",
            "\n",
            "🧪 Saída final após treinamento: [[0.5]\n",
            " [0.5]\n",
            " [0.5]\n",
            " [0.5]]\n",
            "🎯 Saída esperada: [0 1 1 0]\n",
            "📉 Erro médio final: 0.50000\n"
          ]
        },
        {
          "output_type": "display_data",
          "data": {
            "text/plain": [
              "<Figure size 640x480 with 1 Axes>"
            ],
            "image/png": "[encoded data removed]"
          },
          "metadata": {}
        }
      ]
    },
    {
      "cell_type": "code",
      "source": [],
      "metadata": {
        "id": "HT3MACJIlZub"
      },
      "execution_count": null,
      "outputs": []
    }
  ]
}